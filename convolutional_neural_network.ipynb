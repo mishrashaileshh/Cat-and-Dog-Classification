{
 "cells": [
  {
   "cell_type": "markdown",
   "metadata": {
    "colab_type": "text",
    "id": "3DR-eO17geWu"
   },
   "source": [
    "# Convolutional Neural Network"
   ]
  },
  {
   "cell_type": "markdown",
   "metadata": {
    "colab_type": "text",
    "id": "EMefrVPCg-60"
   },
   "source": [
    "### Importing the libraries"
   ]
  },
  {
   "cell_type": "code",
   "execution_count": 1,
   "metadata": {
    "colab": {},
    "colab_type": "code",
    "id": "sCV30xyVhFbE"
   },
   "outputs": [
    {
     "name": "stderr",
     "output_type": "stream",
     "text": [
      "Using TensorFlow backend.\n"
     ]
    }
   ],
   "source": [
    "## ImageDataGenerator is used to generate the different types of images using the rescaling, shearing, flipping, zooming and etc.\n",
    "## Importing the tensorflow library\n",
    "\n",
    "import tensorflow as tf\n",
    "from keras.preprocessing.image import ImageDataGenerator"
   ]
  },
  {
   "cell_type": "code",
   "execution_count": 2,
   "metadata": {
    "colab": {},
    "colab_type": "code",
    "id": "FIleuCAjoFD8"
   },
   "outputs": [
    {
     "data": {
      "text/plain": [
       "'2.1.0'"
      ]
     },
     "execution_count": 2,
     "metadata": {},
     "output_type": "execute_result"
    }
   ],
   "source": [
    "## It will give the version of the current tensorflow runnig into the system.\n",
    "\n",
    "tf.__version__"
   ]
  },
  {
   "cell_type": "markdown",
   "metadata": {
    "colab_type": "text",
    "id": "oxQxCBWyoGPE"
   },
   "source": [
    "## Part 1 - Data Preprocessing"
   ]
  },
  {
   "cell_type": "markdown",
   "metadata": {
    "colab_type": "text",
    "id": "MvE-heJNo3GG"
   },
   "source": [
    "### Preprocessing the Training set"
   ]
  },
  {
   "cell_type": "code",
   "execution_count": 3,
   "metadata": {
    "colab": {},
    "colab_type": "code",
    "id": "0koUcJMJpEBD"
   },
   "outputs": [
    {
     "name": "stdout",
     "output_type": "stream",
     "text": [
      "Found 8000 images belonging to 2 classes.\n"
     ]
    }
   ],
   "source": [
    "## Here, we are applying different scalling factor to produce the different types of images form the given images\n",
    "## It basically used to produce more dataset so that our accuracy will increase\n",
    "## We have 2 classes, Cat and Dog, that's why we choose the class_mode is binary\n",
    "## The batch size is a number of samples processed before the model is updated. Here we choose batch_size = 32\n",
    "\n",
    "train_datagen = ImageDataGenerator(rescale = 1./255,\n",
    "                                   shear_range = 0.2,\n",
    "                                   zoom_range = 0.2,\n",
    "                                   horizontal_flip = True)\n",
    "training_set = train_datagen.flow_from_directory('dataset/training_set',\n",
    "                                                 target_size = (64, 64),\n",
    "                                                 batch_size = 32,\n",
    "                                                 class_mode = 'binary')"
   ]
  },
  {
   "cell_type": "markdown",
   "metadata": {
    "colab_type": "text",
    "id": "mrCMmGw9pHys"
   },
   "source": [
    "### Preprocessing the Test set"
   ]
  },
  {
   "cell_type": "code",
   "execution_count": 4,
   "metadata": {
    "colab": {},
    "colab_type": "code",
    "id": "SH4WzfOhpKc3"
   },
   "outputs": [
    {
     "name": "stdout",
     "output_type": "stream",
     "text": [
      "Found 2000 images belonging to 2 classes.\n"
     ]
    }
   ],
   "source": [
    "## We only rescale our test data so that it can ne in the same format.\n",
    "## Rest of the function should be same like target_size, batch_size, class_mode\n",
    "\n",
    "test_datagen = ImageDataGenerator(rescale = 1./255)\n",
    "test_set = test_datagen.flow_from_directory('dataset/test_set',\n",
    "                                            target_size = (64, 64),\n",
    "                                            batch_size = 32,\n",
    "                                            class_mode = 'binary')"
   ]
  },
  {
   "cell_type": "markdown",
   "metadata": {
    "colab_type": "text",
    "id": "af8O4l90gk7B"
   },
   "source": [
    "## Part 2 - Building the CNN"
   ]
  },
  {
   "cell_type": "markdown",
   "metadata": {
    "colab_type": "text",
    "id": "ces1gXY2lmoX"
   },
   "source": [
    "### Initialising the CNN"
   ]
  },
  {
   "cell_type": "code",
   "execution_count": 5,
   "metadata": {
    "colab": {},
    "colab_type": "code",
    "id": "SAUt4UMPlhLS"
   },
   "outputs": [],
   "source": [
    "## Here we are initialising our cnn model\n",
    "\n",
    "cnn = tf.keras.models.Sequential()"
   ]
  },
  {
   "cell_type": "markdown",
   "metadata": {},
   "source": [
    "We basically have 4 steps to build a cnn model:\n",
    "1. Convolution layer\n",
    "2. Pooling layer\n",
    "3. Flattening layer\n",
    "4. Full Connection layer"
   ]
  },
  {
   "cell_type": "markdown",
   "metadata": {
    "colab_type": "text",
    "id": "u5YJj_XMl5LF"
   },
   "source": [
    "### Step 1 - Convolution"
   ]
  },
  {
   "cell_type": "code",
   "execution_count": 6,
   "metadata": {
    "colab": {},
    "colab_type": "code",
    "id": "XPzPrMckl-hV"
   },
   "outputs": [],
   "source": [
    "## We can import convolution layer from \"tf.keras.layers.Conv2D\" and then add it to our cnn model\n",
    "## Here, I used relu activation function because it will increase the non-linearity in the network\n",
    "## because images are highly non-linear\n",
    "## kernel_size is specifying the height and width of the 2D convolution window\n",
    "## filters are the number of output filters in the convolution\n",
    "## input_shape = [64,64,3], here, (64,64) is smae as target size and the 3 indicates the no of channels (r,g,b)\n",
    "\n",
    "cnn.add(tf.keras.layers.Conv2D(filters=32, kernel_size=3, activation='relu', input_shape=[64, 64, 3]))"
   ]
  },
  {
   "cell_type": "markdown",
   "metadata": {
    "colab_type": "text",
    "id": "tf87FpvxmNOJ"
   },
   "source": [
    "### Step 2 - Pooling"
   ]
  },
  {
   "cell_type": "code",
   "execution_count": 7,
   "metadata": {
    "colab": {},
    "colab_type": "code",
    "id": "ncpqPl69mOac"
   },
   "outputs": [],
   "source": [
    "## Its function is to progressively reduce the spatial size of the representation to reduce the amount -\n",
    "## of parameters and computation in the network.\n",
    "\n",
    "cnn.add(tf.keras.layers.MaxPool2D(pool_size=2, strides=2))"
   ]
  },
  {
   "cell_type": "markdown",
   "metadata": {
    "colab_type": "text",
    "id": "xaTOgD8rm4mU"
   },
   "source": [
    "### Adding a second convolutional layer"
   ]
  },
  {
   "cell_type": "code",
   "execution_count": 8,
   "metadata": {
    "colab": {},
    "colab_type": "code",
    "id": "i_-FZjn_m8gk"
   },
   "outputs": [],
   "source": [
    "## Here we didn't specify the input_shae because we already specified it in our first convolution layer. \n",
    "\n",
    "cnn.add(tf.keras.layers.Conv2D(filters=32, kernel_size=3, activation='relu'))\n",
    "cnn.add(tf.keras.layers.MaxPool2D(pool_size=2, strides=2))"
   ]
  },
  {
   "cell_type": "markdown",
   "metadata": {},
   "source": [
    "We can add more convolutional layers to the network"
   ]
  },
  {
   "cell_type": "markdown",
   "metadata": {
    "colab_type": "text",
    "id": "tmiEuvTunKfk"
   },
   "source": [
    "### Step 3 - Flattening"
   ]
  },
  {
   "cell_type": "code",
   "execution_count": 9,
   "metadata": {
    "colab": {},
    "colab_type": "code",
    "id": "6AZeOGCvnNZn"
   },
   "outputs": [],
   "source": [
    "## It converts the pooled feature map to a single column that is passed to the fully connected layer.\n",
    "\n",
    "cnn.add(tf.keras.layers.Flatten())"
   ]
  },
  {
   "cell_type": "markdown",
   "metadata": {
    "colab_type": "text",
    "id": "dAoSECOm203v"
   },
   "source": [
    "### Step 4 - Full Connection"
   ]
  },
  {
   "cell_type": "code",
   "execution_count": 10,
   "metadata": {
    "colab": {},
    "colab_type": "code",
    "id": "8GtmUlLd26Nq"
   },
   "outputs": [],
   "source": [
    "## It connect every neuron in one layer to every neuron in another layer.\n",
    "\n",
    "cnn.add(tf.keras.layers.Dense(units=128, activation='relu'))"
   ]
  },
  {
   "cell_type": "markdown",
   "metadata": {
    "colab_type": "text",
    "id": "yTldFvbX28Na"
   },
   "source": [
    "### Step 5 - Output Layer"
   ]
  },
  {
   "cell_type": "code",
   "execution_count": 11,
   "metadata": {
    "colab": {},
    "colab_type": "code",
    "id": "1p_Zj1Mc3Ko_"
   },
   "outputs": [],
   "source": [
    "## Finally we add an output layer which classify the target.\n",
    "\n",
    "cnn.add(tf.keras.layers.Dense(units=1, activation='sigmoid'))"
   ]
  },
  {
   "cell_type": "markdown",
   "metadata": {
    "colab_type": "text",
    "id": "D6XkI90snSDl"
   },
   "source": [
    "## Part 3 - Training the CNN"
   ]
  },
  {
   "cell_type": "markdown",
   "metadata": {
    "colab_type": "text",
    "id": "vfrFQACEnc6i"
   },
   "source": [
    "### Compiling the CNN"
   ]
  },
  {
   "cell_type": "code",
   "execution_count": 12,
   "metadata": {
    "colab": {},
    "colab_type": "code",
    "id": "NALksrNQpUlJ"
   },
   "outputs": [],
   "source": [
    "## Here we are compiling our cnn model.\n",
    "## We set our loss function to 'binary_crossentropy' because we have only two classes.\n",
    "## We are using the adam optimizer because Adam combines the best properties of the AdaGrad and RMSProp algorithms -\n",
    "## to provide an optimization algorithm that can handle sparse gradients on noisy problems.\n",
    "\n",
    "cnn.compile(optimizer = 'adam', loss = 'binary_crossentropy', metrics = ['accuracy'])"
   ]
  },
  {
   "cell_type": "markdown",
   "metadata": {
    "colab_type": "text",
    "id": "ehS-v3MIpX2h"
   },
   "source": [
    "### Training the CNN on the Training set and evaluating it on the Test set"
   ]
  },
  {
   "cell_type": "code",
   "execution_count": 13,
   "metadata": {
    "colab": {},
    "colab_type": "code",
    "id": "XUj1W4PJptta"
   },
   "outputs": [
    {
     "name": "stdout",
     "output_type": "stream",
     "text": [
      "WARNING:tensorflow:sample_weight modes were coerced from\n",
      "  ...\n",
      "    to  \n",
      "  ['...']\n",
      "WARNING:tensorflow:sample_weight modes were coerced from\n",
      "  ...\n",
      "    to  \n",
      "  ['...']\n",
      "Train for 250 steps, validate for 63 steps\n",
      "Epoch 1/25\n",
      "250/250 [==============================] - 214s 856ms/step - loss: 0.6642 - accuracy: 0.5931 - val_loss: 0.6266 - val_accuracy: 0.6445\n",
      "Epoch 2/25\n",
      "250/250 [==============================] - 215s 860ms/step - loss: 0.5796 - accuracy: 0.6988 - val_loss: 0.5346 - val_accuracy: 0.7270\n",
      "Epoch 3/25\n",
      "250/250 [==============================] - 107s 429ms/step - loss: 0.5371 - accuracy: 0.7309 - val_loss: 0.5365 - val_accuracy: 0.7285\n",
      "Epoch 4/25\n",
      "250/250 [==============================] - 76s 305ms/step - loss: 0.5053 - accuracy: 0.7529 - val_loss: 0.5102 - val_accuracy: 0.7470\n",
      "Epoch 5/25\n",
      "250/250 [==============================] - 64s 255ms/step - loss: 0.4935 - accuracy: 0.7604 - val_loss: 0.4808 - val_accuracy: 0.7630\n",
      "Epoch 6/25\n",
      "250/250 [==============================] - 57s 228ms/step - loss: 0.4747 - accuracy: 0.7730 - val_loss: 0.4853 - val_accuracy: 0.7705\n",
      "Epoch 7/25\n",
      "250/250 [==============================] - 53s 213ms/step - loss: 0.4494 - accuracy: 0.7876 - val_loss: 0.5115 - val_accuracy: 0.7480\n",
      "Epoch 8/25\n",
      "250/250 [==============================] - 53s 212ms/step - loss: 0.4415 - accuracy: 0.7936 - val_loss: 0.5126 - val_accuracy: 0.7550\n",
      "Epoch 9/25\n",
      "250/250 [==============================] - 53s 211ms/step - loss: 0.4332 - accuracy: 0.7937 - val_loss: 0.4586 - val_accuracy: 0.7845\n",
      "Epoch 10/25\n",
      "250/250 [==============================] - 53s 213ms/step - loss: 0.4157 - accuracy: 0.8061 - val_loss: 0.4798 - val_accuracy: 0.7915\n",
      "Epoch 11/25\n",
      "250/250 [==============================] - 59s 234ms/step - loss: 0.4062 - accuracy: 0.8156 - val_loss: 0.5406 - val_accuracy: 0.7545\n",
      "Epoch 12/25\n",
      "250/250 [==============================] - 63s 252ms/step - loss: 0.3905 - accuracy: 0.8230 - val_loss: 0.4890 - val_accuracy: 0.7790\n",
      "Epoch 13/25\n",
      "250/250 [==============================] - 67s 268ms/step - loss: 0.3817 - accuracy: 0.8295 - val_loss: 0.4656 - val_accuracy: 0.7915\n",
      "Epoch 14/25\n",
      "250/250 [==============================] - 59s 235ms/step - loss: 0.3734 - accuracy: 0.8319 - val_loss: 0.4974 - val_accuracy: 0.7790\n",
      "Epoch 15/25\n",
      "250/250 [==============================] - 62s 250ms/step - loss: 0.3686 - accuracy: 0.8334 - val_loss: 0.4770 - val_accuracy: 0.7810\n",
      "Epoch 16/25\n",
      "250/250 [==============================] - 69s 277ms/step - loss: 0.3469 - accuracy: 0.8490 - val_loss: 0.4589 - val_accuracy: 0.7955\n",
      "Epoch 17/25\n",
      "250/250 [==============================] - 67s 268ms/step - loss: 0.3418 - accuracy: 0.8484 - val_loss: 0.4401 - val_accuracy: 0.7945\n",
      "Epoch 18/25\n",
      "250/250 [==============================] - 71s 284ms/step - loss: 0.3249 - accuracy: 0.8584 - val_loss: 0.5404 - val_accuracy: 0.7745\n",
      "Epoch 19/25\n",
      "250/250 [==============================] - 62s 246ms/step - loss: 0.3232 - accuracy: 0.8606 - val_loss: 0.4306 - val_accuracy: 0.8015\n",
      "Epoch 20/25\n",
      "250/250 [==============================] - 63s 254ms/step - loss: 0.3096 - accuracy: 0.8625 - val_loss: 0.5499 - val_accuracy: 0.7695\n",
      "Epoch 21/25\n",
      "250/250 [==============================] - 63s 252ms/step - loss: 0.2967 - accuracy: 0.8736 - val_loss: 0.4915 - val_accuracy: 0.8025\n",
      "Epoch 22/25\n",
      "250/250 [==============================] - 58s 234ms/step - loss: 0.2910 - accuracy: 0.8765 - val_loss: 0.4935 - val_accuracy: 0.7990\n",
      "Epoch 23/25\n",
      "250/250 [==============================] - 57s 227ms/step - loss: 0.2691 - accuracy: 0.8855 - val_loss: 0.5160 - val_accuracy: 0.7940\n",
      "Epoch 24/25\n",
      "250/250 [==============================] - 64s 257ms/step - loss: 0.2605 - accuracy: 0.8890 - val_loss: 0.5344 - val_accuracy: 0.7865\n",
      "Epoch 25/25\n",
      "250/250 [==============================] - 57s 227ms/step - loss: 0.2480 - accuracy: 0.8956 - val_loss: 0.4924 - val_accuracy: 0.8115\n"
     ]
    },
    {
     "data": {
      "text/plain": [
       "<tensorflow.python.keras.callbacks.History at 0x1c3f888b4c8>"
      ]
     },
     "execution_count": 13,
     "metadata": {},
     "output_type": "execute_result"
    }
   ],
   "source": [
    "## Here, we are training our cnn model on the training set and validating our cnn model on the test set.\n",
    "## Epochs basically means the iterations. Here I set epochs to 25 so the process will iterate 25 times through the dataset.\n",
    "\n",
    "cnn.fit(x = training_set, validation_data = test_set, epochs = 25)"
   ]
  },
  {
   "cell_type": "markdown",
   "metadata": {
    "colab_type": "text",
    "id": "U3PZasO0006Z"
   },
   "source": [
    "## Part 4 - Making a single prediction"
   ]
  },
  {
   "cell_type": "code",
   "execution_count": 14,
   "metadata": {
    "colab": {},
    "colab_type": "code",
    "id": "gsSiWEJY1BPB"
   },
   "outputs": [],
   "source": [
    "## Here we are making the prediction on a single image.\n",
    "## First we load the image which is going to be predict and set the target_size same to the training traget size.\n",
    "## Then we convert the test image into array and numpy's expand_dim() function is used to expand the shape of an array.\n",
    "## And finally predict the result.\n",
    "\n",
    "import numpy as np\n",
    "from keras.preprocessing import image\n",
    "test_image = image.load_img('dataset/single_prediction/cat_or_dog_1.jpg', target_size = (64, 64))\n",
    "test_image = image.img_to_array(test_image)\n",
    "test_image = np.expand_dims(test_image, axis = 0)\n",
    "result = cnn.predict(test_image)\n",
    "training_set.class_indices\n",
    "if result[0][0] == 1:\n",
    "  prediction = 'dog'\n",
    "else:\n",
    "  prediction = 'cat'"
   ]
  },
  {
   "cell_type": "code",
   "execution_count": 15,
   "metadata": {
    "colab": {},
    "colab_type": "code",
    "id": "ED9KB3I54c1i"
   },
   "outputs": [
    {
     "name": "stdout",
     "output_type": "stream",
     "text": [
      "dog\n"
     ]
    }
   ],
   "source": [
    "## Here we are printing the predicted result.\n",
    "\n",
    "print(prediction)"
   ]
  },
  {
   "cell_type": "code",
   "execution_count": null,
   "metadata": {},
   "outputs": [],
   "source": []
  }
 ],
 "metadata": {
  "colab": {
   "collapsed_sections": [],
   "name": "convolutional_neural_network.ipynb",
   "provenance": [],
   "toc_visible": true
  },
  "kernelspec": {
   "display_name": "Python 3",
   "language": "python",
   "name": "python3"
  },
  "language_info": {
   "codemirror_mode": {
    "name": "ipython",
    "version": 3
   },
   "file_extension": ".py",
   "mimetype": "text/x-python",
   "name": "python",
   "nbconvert_exporter": "python",
   "pygments_lexer": "ipython3",
   "version": "3.7.7"
  }
 },
 "nbformat": 4,
 "nbformat_minor": 1
}
